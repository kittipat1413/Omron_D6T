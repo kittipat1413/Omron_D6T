{
 "cells": [
  {
   "cell_type": "code",
   "execution_count": 3,
   "metadata": {},
   "outputs": [],
   "source": [
    "import numpy as np\n",
    "import matplotlib.pyplot as plt\n",
    "#import tensorflow as tf\n",
    "import xlrd"
   ]
  },
  {
   "cell_type": "code",
   "execution_count": 23,
   "metadata": {},
   "outputs": [
    {
     "name": "stdout",
     "output_type": "stream",
     "text": [
      "number of rows: 31\n",
      "data:\n",
      " [[36.1 32.2 21.3  3.9]\n",
      " [36.1 31.9 21.3  4.2]\n",
      " [35.8 32.  21.4  3.8]\n",
      " [36.  32.  21.6  4. ]\n",
      " [35.8 31.6 21.6  4.2]\n",
      " [36.  31.1 21.5  4.9]\n",
      " [36.5 32.4 21.8  4.1]\n",
      " [36.5 34.  25.5  2.5]\n",
      " [36.  33.5 25.1  2.5]\n",
      " [36.8 33.4 24.8  3.4]\n",
      " [35.8 32.9 24.9  2.9]\n",
      " [36.3 33.9 27.8  2.4]\n",
      " [36.4 33.7 28.2  2.7]\n",
      " [36.7 34.1 28.1  2.6]\n",
      " [36.4 33.9 28.1  2.5]\n",
      " [36.7 33.7 28.   3. ]\n",
      " [36.2 32.4 23.3  3.8]\n",
      " [36.  32.  23.5  4. ]\n",
      " [36.2 32.6 23.7  3.6]\n",
      " [36.  32.  23.6  4. ]\n",
      " [36.  32.2 22.7  3.8]\n",
      " [36.1 32.5 22.7  3.6]\n",
      " [36.  32.5 22.8  3.5]\n",
      " [36.9 34.4 31.   2.5]\n",
      " [37.  34.5 31.   2.5]\n",
      " [36.8 33.6 26.4  3.2]\n",
      " [36.5 33.7 26.4  2.8]\n",
      " [36.2 33.3 25.   2.9]\n",
      " [36.4 33.4 25.1  3. ]\n",
      " [36.1 32.9 24.   3.2]]\n"
     ]
    }
   ],
   "source": [
    "DATA_FILE = './DATA.xlsx'\n",
    "\n",
    "book = xlrd.open_workbook(DATA_FILE, encoding_override='utf-8')\n",
    "sheet = book.sheet_by_index(0)\n",
    "\n",
    "number_of_rows = len(list(sheet.get_rows()))\n",
    "data = np.asarray([sheet.row_values(i) for i in range(1, number_of_rows)])\n",
    "\n",
    "# print number_of_rows and data\n",
    "print(\"number of rows: {}\".format(number_of_rows))\n",
    "print(\"data:\\n {}\".format(data))"
   ]
  },
  {
   "cell_type": "code",
   "execution_count": 24,
   "metadata": {},
   "outputs": [],
   "source": [
    "data = data[:,[2,3]]\n",
    "x = np.delete(data,1, 1)\n",
    "y = np.delete(data,0, 1)\n",
    "#print(x)\n",
    "#print(y)"
   ]
  },
  {
   "cell_type": "markdown",
   "metadata": {},
   "source": [
    "# Try to implement normal equations and compare its estimated s with ones computed from the above.\n",
    "* weight = (X_T*X)^-1*X_T*Y"
   ]
  },
  {
   "cell_type": "code",
   "execution_count": 26,
   "metadata": {},
   "outputs": [
    {
     "name": "stdout",
     "output_type": "stream",
     "text": [
      "(30, 2)\n",
      "[[ 1.   1.   1.   1.   1.   1.   1.   1.   1.   1.   1.   1.   1.   1.\n",
      "   1.   1.   1.   1.   1.   1.   1.   1.   1.   1.   1.   1.   1.   1.\n",
      "   1.   1. ]\n",
      " [21.3 21.3 21.4 21.6 21.6 21.5 21.8 25.5 25.1 24.8 24.9 27.8 28.2 28.1\n",
      "  28.1 28.  23.3 23.5 23.7 23.6 22.7 22.7 22.8 31.  31.  26.4 26.4 25.\n",
      "  25.1 24. ]]\n",
      "[[   30.    742.2]\n",
      " [  742.2 18593.7]]\n",
      "[[ 4.00687178e-01  4.00687178e-01  3.90008288e-01  3.68650506e-01\n",
      "   3.68650506e-01  3.79329397e-01  3.47292724e-01 -4.78262371e-02\n",
      "  -5.11067371e-03  2.69259988e-02  1.62471080e-02 -2.93440727e-01\n",
      "  -3.36156290e-01 -3.25477399e-01 -3.25477399e-01 -3.14798508e-01\n",
      "   1.87109362e-01  1.65751580e-01  1.44393798e-01  1.55072689e-01\n",
      "   2.51182707e-01  2.51182707e-01  2.40503816e-01 -6.35165234e-01\n",
      "  -6.35165234e-01 -1.43936255e-01 -1.43936255e-01  5.56821713e-03\n",
      "  -5.11067371e-03  1.12357126e-01]\n",
      " [-1.48485790e-02 -1.48485790e-02 -1.44169343e-02 -1.35536448e-02\n",
      "  -1.35536448e-02 -1.39852895e-02 -1.26903553e-02  3.28050002e-03\n",
      "   1.55392106e-03  2.58986843e-04  6.90631583e-04  1.32083290e-02\n",
      "   1.49349080e-02  1.45032632e-02  1.45032632e-02  1.40716185e-02\n",
      "  -6.21568424e-03 -5.35239477e-03 -4.48910529e-03 -4.92075003e-03\n",
      "  -8.80555268e-03 -8.80555268e-03 -8.37390794e-03  2.70209607e-02\n",
      "   2.70209607e-02  7.16530267e-03  7.16530267e-03  1.12227632e-03\n",
      "   1.55392106e-03 -3.19417107e-03]]\n"
     ]
    }
   ],
   "source": [
    "one = np.ones(number_of_rows-1)\n",
    "x = np.insert(x, 0, one , axis=1)\n",
    "x_T = np.transpose(x)\n",
    "print(data.shape)\n",
    "print(x_T)\n",
    "x_mal = np.dot(x_T, x)\n",
    "print(x_mal)\n",
    "x_inv = np.linalg.inv(x_mal)\n",
    "x_all = np.dot(x_inv, x_T)\n",
    "print(x_all)\n",
    "ans =  np.dot(x_all, y)"
   ]
  },
  {
   "cell_type": "code",
   "execution_count": 27,
   "metadata": {},
   "outputs": [
    {
     "name": "stdout",
     "output_type": "stream",
     "text": [
      "[[ 8.35881937]\n",
      " [-0.20313201]]\n"
     ]
    }
   ],
   "source": [
    "print(ans)"
   ]
  },
  {
   "cell_type": "code",
   "execution_count": 28,
   "metadata": {},
   "outputs": [
    {
     "data": {
      "image/png": "[encoded data removed]",
      "text/plain": [
       "<Figure size 432x288 with 1 Axes>"
      ]
     },
     "metadata": {
      "needs_background": "light"
     },
     "output_type": "display_data"
    }
   ],
   "source": [
    "plt.plot(data.T[0], data.T[1], 'ro', label='Original data')\n",
    "plt.plot(data.T[0], ans[0] + ans[1] * data.T[0], 'b', label='Fitted line')\n",
    "plt.xlabel('Ambient temperature')\n",
    "plt.ylabel('Offset')\n",
    "plt.legend()\n",
    "plt.show()"
   ]
  },
  {
   "cell_type": "code",
   "execution_count": null,
   "metadata": {},
   "outputs": [],
   "source": []
  }
 ],
 "metadata": {
  "kernelspec": {
   "display_name": "Python 3",
   "language": "python",
   "name": "python3"
  },
  "language_info": {
   "codemirror_mode": {
    "name": "ipython",
    "version": 3
   },
   "file_extension": ".py",
   "mimetype": "text/x-python",
   "name": "python",
   "nbconvert_exporter": "python",
   "pygments_lexer": "ipython3",
   "version": "3.7.3"
  }
 },
 "nbformat": 4,
 "nbformat_minor": 4
}
