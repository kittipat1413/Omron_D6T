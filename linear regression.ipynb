{
 "cells": [
  {
   "cell_type": "code",
   "execution_count": 81,
   "metadata": {},
   "outputs": [],
   "source": [
    "import numpy as np\n",
    "%matplotlib inline\n",
    "import matplotlib.pyplot as plt\n",
    "#import tensorflow as tf\n",
    "import xlrd\n",
    "import pandas as pd\n",
    "import seaborn as sb"
   ]
  },
  {
   "cell_type": "code",
   "execution_count": 41,
   "metadata": {},
   "outputs": [
    {
     "name": "stdout",
     "output_type": "stream",
     "text": [
      "number of rows: 52\n",
      "data:\n",
      " [[36.1 32.2 21.3  3.9]\n",
      " [36.1 31.9 21.3  4.2]\n",
      " [35.8 32.  21.4  3.8]\n",
      " [36.  32.  21.6  4. ]\n",
      " [35.8 31.6 21.6  4.2]\n",
      " [36.  31.1 21.5  4.9]\n",
      " [36.5 32.4 21.8  4.1]\n",
      " [36.5 34.  25.5  2.5]\n",
      " [36.  33.5 25.1  2.5]\n",
      " [36.8 33.4 24.8  3.4]\n",
      " [35.8 32.9 24.9  2.9]\n",
      " [36.3 33.9 27.8  2.4]\n",
      " [36.4 33.7 28.2  2.7]\n",
      " [36.7 34.1 28.1  2.6]\n",
      " [36.4 33.9 28.1  2.5]\n",
      " [36.7 33.7 28.   3. ]\n",
      " [36.2 32.4 23.3  3.8]\n",
      " [36.  32.  23.5  4. ]\n",
      " [36.2 32.6 23.7  3.6]\n",
      " [36.  32.  23.6  4. ]\n",
      " [36.  32.2 22.7  3.8]\n",
      " [36.1 32.5 22.7  3.6]\n",
      " [36.  32.5 22.8  3.5]\n",
      " [36.9 34.4 31.   2.5]\n",
      " [37.  34.5 31.   2.5]\n",
      " [36.8 33.6 26.4  3.2]\n",
      " [36.5 33.7 26.4  2.8]\n",
      " [36.2 33.3 25.   2.9]\n",
      " [36.4 33.4 25.1  3. ]\n",
      " [36.1 32.9 24.   3.2]\n",
      " [35.9 32.2 24.2  3.7]\n",
      " [36.4 32.8 24.8  3.6]\n",
      " [36.7 33.5 24.8  3.2]\n",
      " [36.1 32.9 24.5  3.2]\n",
      " [36.5 33.  25.   3.5]\n",
      " [36.6 33.3 25.3  3.3]\n",
      " [36.2 33.5 25.2  2.7]\n",
      " [36.6 33.4 24.8  3.2]\n",
      " [36.4 33.4 27.   3. ]\n",
      " [36.6 34.2 28.3  2.4]\n",
      " [36.1 33.9 28.3  2.2]\n",
      " [36.3 34.  28.3  2.3]\n",
      " [36.7 34.4 28.3  2.3]\n",
      " [36.4 33.7 28.5  2.7]\n",
      " [36.4 33.9 28.4  2.5]\n",
      " [36.4 34.  28.4  2.4]\n",
      " [36.3 33.3 25.9  3. ]\n",
      " [36.6 33.5 25.3  3.1]\n",
      " [36.4 33.5 24.8  2.9]\n",
      " [35.9 33.4 24.4  2.5]\n",
      " [36.5 33.5 24.2  3. ]]\n"
     ]
    }
   ],
   "source": [
    "DATA_FILE = './DATA.xlsx'\n",
    "\n",
    "book = xlrd.open_workbook(DATA_FILE, encoding_override='utf-8')\n",
    "sheet = book.sheet_by_index(0)\n",
    "\n",
    "number_of_rows = len(list(sheet.get_rows()))\n",
    "data = np.asarray([sheet.row_values(i) for i in range(1, number_of_rows)])\n",
    "\n",
    "# print number_of_rows and data\n",
    "print(\"number of rows: {}\".format(number_of_rows))\n",
    "print(\"data:\\n {}\".format(data))"
   ]
  },
  {
   "cell_type": "code",
   "execution_count": 42,
   "metadata": {},
   "outputs": [],
   "source": [
    "data = data[:,[2,3]]\n",
    "x = np.delete(data,1, 1)\n",
    "y = np.delete(data,0, 1)"
   ]
  },
  {
   "cell_type": "markdown",
   "metadata": {},
   "source": [
    "# Try to implement normal equations and compare its estimated s with ones computed from the above.\n",
    "\n",
    "\n",
    "## 1 input\n",
    "\n",
    "* weight = (X_T*X)^-1*X_T*Y\n"
   ]
  },
  {
   "cell_type": "code",
   "execution_count": 12,
   "metadata": {},
   "outputs": [
    {
     "name": "stdout",
     "output_type": "stream",
     "text": [
      "(51, 2)\n",
      "[[ 1.   1.   1.   1.   1.   1.   1.   1.   1.   1.   1.   1.   1.   1.\n",
      "   1.   1.   1.   1.   1.   1.   1.   1.   1.   1.   1.   1.   1.   1.\n",
      "   1.   1.   1.   1.   1.   1.   1.   1.   1.   1.   1.   1.   1.   1.\n",
      "   1.   1.   1.   1.   1.   1.   1.   1.   1. ]\n",
      " [21.3 21.3 21.4 21.6 21.6 21.5 21.8 25.5 25.1 24.8 24.9 27.8 28.2 28.1\n",
      "  28.1 28.  23.3 23.5 23.7 23.6 22.7 22.7 22.8 31.  31.  26.4 26.4 25.\n",
      "  25.1 24.  24.2 24.8 24.8 24.5 25.  25.3 25.2 24.8 27.  28.3 28.3 28.3\n",
      "  28.3 28.5 28.4 28.4 25.9 25.3 24.8 24.4 24.2]]\n",
      "[[   51.    1290.9 ]\n",
      " [ 1290.9  32989.71]]\n",
      "[[ 3.42225462e-01  3.42225462e-01  3.34183673e-01  3.18100097e-01\n",
      "   3.18100097e-01  3.26141885e-01  3.02016521e-01  4.47035957e-03\n",
      "   3.66375121e-02  6.07628766e-02  5.27210884e-02 -1.80490768e-01\n",
      "  -2.12657920e-01 -2.04616132e-01 -2.04616132e-01 -1.96574344e-01\n",
      "   1.81389699e-01  1.65306122e-01  1.49222546e-01  1.57264334e-01\n",
      "   2.29640428e-01  2.29640428e-01  2.21598639e-01 -4.37827988e-01\n",
      "  -4.37827988e-01 -6.79057337e-02 -6.79057337e-02  4.46793003e-02\n",
      "   3.66375121e-02  1.25097182e-01  1.09013605e-01  6.07628766e-02\n",
      "   6.07628766e-02  8.48882410e-02  4.46793003e-02  2.05539359e-02\n",
      "   2.85957240e-02  6.07628766e-02 -1.16156463e-01 -2.20699708e-01\n",
      "  -2.20699708e-01 -2.20699708e-01 -2.20699708e-01 -2.36783285e-01\n",
      "  -2.28741497e-01 -2.28741497e-01 -2.76967930e-02  2.05539359e-02\n",
      "   6.07628766e-02  9.29300292e-02  1.09013605e-01]\n",
      " [-1.27457576e-02 -1.27457576e-02 -1.24280481e-02 -1.17926291e-02\n",
      "  -1.17926291e-02 -1.21103386e-02 -1.11572101e-02  5.98041414e-04\n",
      "  -6.72796591e-04 -1.62592510e-03 -1.30821559e-03  7.90535995e-03\n",
      "   9.17619795e-03  8.85848845e-03  8.85848845e-03  8.54077895e-03\n",
      "  -6.39156762e-03 -5.75614861e-03 -5.12072961e-03 -5.43843911e-03\n",
      "  -8.29782462e-03 -8.29782462e-03 -7.98011512e-03  1.80720640e-02\n",
      "   1.80720640e-02  3.45742693e-03  3.45742693e-03 -9.90506093e-04\n",
      "  -6.72796591e-04 -4.16760111e-03 -3.53218210e-03 -1.62592510e-03\n",
      "  -1.62592510e-03 -2.57905360e-03 -9.90506093e-04 -3.73775884e-05\n",
      "  -3.55087090e-04 -1.62592510e-03  5.36368394e-03  9.49390745e-03\n",
      "   9.49390745e-03  9.49390745e-03  9.49390745e-03  1.01293265e-02\n",
      "   9.81161695e-03  9.81161695e-03  1.86887942e-03 -3.73775884e-05\n",
      "  -1.62592510e-03 -2.89676310e-03 -3.53218210e-03]]\n"
     ]
    }
   ],
   "source": [
    "one = np.ones(number_of_rows-1)\n",
    "x = np.insert(x, 0, one , axis=1)\n",
    "x_T = np.transpose(x)\n",
    "print(data.shape)\n",
    "print(x_T)\n",
    "x_mal = np.dot(x_T, x)\n",
    "print(x_mal)\n",
    "x_inv = np.linalg.inv(x_mal)\n",
    "x_all = np.dot(x_inv, x_T)\n",
    "print(x_all)\n",
    "ans =  np.dot(x_all, y)"
   ]
  },
  {
   "cell_type": "code",
   "execution_count": 13,
   "metadata": {},
   "outputs": [
    {
     "name": "stdout",
     "output_type": "stream",
     "text": [
      "[[ 8.50444606]\n",
      " [-0.21150108]]\n"
     ]
    }
   ],
   "source": [
    "print(ans)"
   ]
  },
  {
   "cell_type": "code",
   "execution_count": 14,
   "metadata": {},
   "outputs": [
    {
     "data": {
      "image/png": "[encoded data removed]",
      "text/plain": [
       "<Figure size 432x288 with 1 Axes>"
      ]
     },
     "metadata": {
      "needs_background": "light"
     },
     "output_type": "display_data"
    }
   ],
   "source": [
    "plt.plot(data.T[0], data.T[1], 'ro', label='Original data')\n",
    "plt.plot(data.T[0], ans[0] + ans[1] * data.T[0], 'b', label='Fitted line')\n",
    "plt.xlabel('Ambient temperature')\n",
    "plt.ylabel('Offset')\n",
    "plt.legend()\n",
    "plt.show()"
   ]
  },
  {
   "cell_type": "markdown",
   "metadata": {},
   "source": [
    "## 2 input"
   ]
  },
  {
   "cell_type": "code",
   "execution_count": 63,
   "metadata": {},
   "outputs": [
    {
     "name": "stdout",
     "output_type": "stream",
     "text": [
      "data:\n",
      " [[32.2 21.3  3.9]\n",
      " [31.9 21.3  4.2]\n",
      " [32.  21.4  3.8]\n",
      " [32.  21.6  4. ]\n",
      " [31.6 21.6  4.2]\n",
      " [31.1 21.5  4.9]\n",
      " [32.4 21.8  4.1]\n",
      " [34.  25.5  2.5]\n",
      " [33.5 25.1  2.5]\n",
      " [33.4 24.8  3.4]\n",
      " [32.9 24.9  2.9]\n",
      " [33.9 27.8  2.4]\n",
      " [33.7 28.2  2.7]\n",
      " [34.1 28.1  2.6]\n",
      " [33.9 28.1  2.5]\n",
      " [33.7 28.   3. ]\n",
      " [32.4 23.3  3.8]\n",
      " [32.  23.5  4. ]\n",
      " [32.6 23.7  3.6]\n",
      " [32.  23.6  4. ]\n",
      " [32.2 22.7  3.8]\n",
      " [32.5 22.7  3.6]\n",
      " [32.5 22.8  3.5]\n",
      " [34.4 31.   2.5]\n",
      " [34.5 31.   2.5]\n",
      " [33.6 26.4  3.2]\n",
      " [33.7 26.4  2.8]\n",
      " [33.3 25.   2.9]\n",
      " [33.4 25.1  3. ]\n",
      " [32.9 24.   3.2]\n",
      " [32.2 24.2  3.7]\n",
      " [32.8 24.8  3.6]\n",
      " [33.5 24.8  3.2]\n",
      " [32.9 24.5  3.2]\n",
      " [33.  25.   3.5]\n",
      " [33.3 25.3  3.3]\n",
      " [33.5 25.2  2.7]\n",
      " [33.4 24.8  3.2]\n",
      " [33.4 27.   3. ]\n",
      " [34.2 28.3  2.4]\n",
      " [33.9 28.3  2.2]\n",
      " [34.  28.3  2.3]\n",
      " [34.4 28.3  2.3]\n",
      " [33.7 28.5  2.7]\n",
      " [33.9 28.4  2.5]\n",
      " [34.  28.4  2.4]\n",
      " [33.3 25.9  3. ]\n",
      " [33.5 25.3  3.1]\n",
      " [33.5 24.8  2.9]\n",
      " [33.4 24.4  2.5]\n",
      " [33.5 24.2  3. ]]\n"
     ]
    }
   ],
   "source": [
    "data = np.asarray([sheet.row_values(i) for i in range(1, number_of_rows)])\n",
    "data = data[:,[1,2,3]]\n",
    "print(\"data:\\n {}\".format(data))"
   ]
  },
  {
   "cell_type": "code",
   "execution_count": 64,
   "metadata": {},
   "outputs": [
    {
     "name": "stdout",
     "output_type": "stream",
     "text": [
      "(51, 2)\n",
      "(51, 1)\n"
     ]
    }
   ],
   "source": [
    "x = np.delete(data,2, 1)\n",
    "y = data[:,[2]]\n",
    "print(x.shape)\n",
    "print(y.shape)"
   ]
  },
  {
   "cell_type": "code",
   "execution_count": 65,
   "metadata": {},
   "outputs": [
    {
     "name": "stdout",
     "output_type": "stream",
     "text": [
      "(51, 3)\n",
      "[[ 1.   1.   1.   1.   1.   1.   1.   1.   1.   1.   1.   1.   1.   1.\n",
      "   1.   1.   1.   1.   1.   1.   1.   1.   1.   1.   1.   1.   1.   1.\n",
      "   1.   1.   1.   1.   1.   1.   1.   1.   1.   1.   1.   1.   1.   1.\n",
      "   1.   1.   1.   1.   1.   1.   1.   1.   1. ]\n",
      " [32.2 31.9 32.  32.  31.6 31.1 32.4 34.  33.5 33.4 32.9 33.9 33.7 34.1\n",
      "  33.9 33.7 32.4 32.  32.6 32.  32.2 32.5 32.5 34.4 34.5 33.6 33.7 33.3\n",
      "  33.4 32.9 32.2 32.8 33.5 32.9 33.  33.3 33.5 33.4 33.4 34.2 33.9 34.\n",
      "  34.4 33.7 33.9 34.  33.3 33.5 33.5 33.4 33.5]\n",
      " [21.3 21.3 21.4 21.6 21.6 21.5 21.8 25.5 25.1 24.8 24.9 27.8 28.2 28.1\n",
      "  28.1 28.  23.3 23.5 23.7 23.6 22.7 22.7 22.8 31.  31.  26.4 26.4 25.\n",
      "  25.1 24.  24.2 24.8 24.8 24.5 25.  25.3 25.2 24.8 27.  28.3 28.3 28.3\n",
      "  28.3 28.5 28.4 28.4 25.9 25.3 24.8 24.4 24.2]]\n",
      "(3, 3)\n",
      "(3, 51)\n"
     ]
    }
   ],
   "source": [
    "one = np.ones(number_of_rows-1)\n",
    "x = np.insert(x, 0, one , axis=1)\n",
    "x_T = np.transpose(x)\n",
    "print(data.shape)\n",
    "print(x_T)\n",
    "x_mal = np.dot(x_T, x)\n",
    "print(x_mal.shape)\n",
    "x_inv = np.linalg.inv(x_mal)\n",
    "x_all = np.dot(x_inv, x_T)\n",
    "print(x_all.shape)\n",
    "ans =  np.dot(x_all, y)"
   ]
  },
  {
   "cell_type": "code",
   "execution_count": 70,
   "metadata": {},
   "outputs": [
    {
     "name": "stdout",
     "output_type": "stream",
     "text": [
      "[[ 2.75433945e+01]\n",
      " [-7.36702843e-01]\n",
      " [ 1.69913280e-03]]\n"
     ]
    }
   ],
   "source": [
    "print(ans)"
   ]
  },
  {
   "cell_type": "code",
   "execution_count": 103,
   "metadata": {},
   "outputs": [
    {
     "data": {
      "image/png": "[encoded data removed]",
      "text/plain": [
       "<Figure size 432x288 with 1 Axes>"
      ]
     },
     "metadata": {
      "needs_background": "light"
     },
     "output_type": "display_data"
    }
   ],
   "source": [
    "# X is Omron temp\n",
    "# Y is Ambient\n",
    "a,b,c,d = ans[1],ans[2],1,ans[0]\n",
    "\n",
    "x = np.linspace(30,40,10)\n",
    "y = np.linspace(30,40,10)\n",
    "X,Y = np.meshgrid(x,y)\n",
    "Z = a*X + b*Y + d\n",
    "\n",
    "fig = plt.figure()\n",
    "ax = fig.gca(projection='3d')\n",
    "\n",
    "surf = ax.plot_surface(X, Y, Z)\n",
    "\n",
    "ax.scatter(data.T[0], data.T[1], data.T[2],  c='r', marker='o')\n",
    "\n",
    "ax.set_xlabel('X Label (Omron temp)')\n",
    "ax.set_ylabel('Y Label (Ambient temperature)')\n",
    "ax.set_zlabel('Z Label (Offset)')\n",
    "\n",
    "ax.view_init(azim=270, elev=0)\n",
    "\n",
    "plt.show()"
   ]
  },
  {
   "cell_type": "code",
   "execution_count": 17,
   "metadata": {},
   "outputs": [
    {
     "data": {
      "text/html": [
       "<div>\n",
       "<style scoped>\n",
       "    .dataframe tbody tr th:only-of-type {\n",
       "        vertical-align: middle;\n",
       "    }\n",
       "\n",
       "    .dataframe tbody tr th {\n",
       "        vertical-align: top;\n",
       "    }\n",
       "\n",
       "    .dataframe thead th {\n",
       "        text-align: right;\n",
       "    }\n",
       "</style>\n",
       "<table border=\"1\" class=\"dataframe\">\n",
       "  <thead>\n",
       "    <tr style=\"text-align: right;\">\n",
       "      <th></th>\n",
       "      <th>thermometer</th>\n",
       "      <th>omron</th>\n",
       "      <th>ambient</th>\n",
       "      <th>offset</th>\n",
       "    </tr>\n",
       "  </thead>\n",
       "  <tbody>\n",
       "    <tr>\n",
       "      <th>0</th>\n",
       "      <td>36.1</td>\n",
       "      <td>32.2</td>\n",
       "      <td>21.3</td>\n",
       "      <td>3.9</td>\n",
       "    </tr>\n",
       "    <tr>\n",
       "      <th>1</th>\n",
       "      <td>36.1</td>\n",
       "      <td>31.9</td>\n",
       "      <td>21.3</td>\n",
       "      <td>4.2</td>\n",
       "    </tr>\n",
       "    <tr>\n",
       "      <th>2</th>\n",
       "      <td>35.8</td>\n",
       "      <td>32.0</td>\n",
       "      <td>21.4</td>\n",
       "      <td>3.8</td>\n",
       "    </tr>\n",
       "    <tr>\n",
       "      <th>3</th>\n",
       "      <td>36.0</td>\n",
       "      <td>32.0</td>\n",
       "      <td>21.6</td>\n",
       "      <td>4.0</td>\n",
       "    </tr>\n",
       "    <tr>\n",
       "      <th>4</th>\n",
       "      <td>35.8</td>\n",
       "      <td>31.6</td>\n",
       "      <td>21.6</td>\n",
       "      <td>4.2</td>\n",
       "    </tr>\n",
       "  </tbody>\n",
       "</table>\n",
       "</div>"
      ],
      "text/plain": [
       "   thermometer  omron  ambient   offset\n",
       "0         36.1   32.2      21.3     3.9\n",
       "1         36.1   31.9      21.3     4.2\n",
       "2         35.8   32.0      21.4     3.8\n",
       "3         36.0   32.0      21.6     4.0\n",
       "4         35.8   31.6      21.6     4.2"
      ]
     },
     "execution_count": 17,
     "metadata": {},
     "output_type": "execute_result"
    }
   ],
   "source": [
    "dfs = pd.read_excel(DATA_FILE, sheet_name=None)\n",
    "dfs['Sheet1'].head()"
   ]
  },
  {
   "cell_type": "code",
   "execution_count": 20,
   "metadata": {},
   "outputs": [
    {
     "data": {
      "text/plain": [
       "<matplotlib.axes._subplots.AxesSubplot at 0x12ea4add8>"
      ]
     },
     "execution_count": 20,
     "metadata": {},
     "output_type": "execute_result"
    },
    {
     "data": {
      "image/png": "[encoded data removed]",
      "text/plain": [
       "<Figure size 432x288 with 2 Axes>"
      ]
     },
     "metadata": {
      "needs_background": "light"
     },
     "output_type": "display_data"
    }
   ],
   "source": [
    "pearsoncorr = dfs['Sheet1'].corr(method='pearson')\n",
    "sb.heatmap(pearsoncorr, \n",
    "            xticklabels=pearsoncorr.columns,\n",
    "            yticklabels=pearsoncorr.columns,\n",
    "            cmap='RdBu_r',\n",
    "            annot=True,\n",
    "            linewidth=0.5)"
   ]
  },
  {
   "cell_type": "code",
   "execution_count": null,
   "metadata": {},
   "outputs": [],
   "source": []
  }
 ],
 "metadata": {
  "kernelspec": {
   "display_name": "Python 3",
   "language": "python",
   "name": "python3"
  },
  "language_info": {
   "codemirror_mode": {
    "name": "ipython",
    "version": 3
   },
   "file_extension": ".py",
   "mimetype": "text/x-python",
   "name": "python",
   "nbconvert_exporter": "python",
   "pygments_lexer": "ipython3",
   "version": "3.7.3"
  }
 },
 "nbformat": 4,
 "nbformat_minor": 4
}
